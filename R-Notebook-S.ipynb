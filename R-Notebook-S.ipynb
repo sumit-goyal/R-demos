{
    "nbformat_minor": 1, 
    "cells": [
        {
            "execution_count": 1, 
            "cell_type": "code", 
            "metadata": {}, 
            "outputs": [
                {
                    "output_type": "display_data", 
                    "data": {
                        "text/html": "<table>\n<thead><tr><th scope=col>mpg</th><th scope=col>cylinders</th><th scope=col>engine</th><th scope=col>horsepower</th><th scope=col>weight</th><th scope=col>acceleration</th><th scope=col>year</th><th scope=col>origin</th><th scope=col>name</th></tr></thead>\n<tbody>\n\t<tr><td>18                       </td><td>8                        </td><td>307                      </td><td>130                      </td><td>3504                     </td><td>12.0                     </td><td>70                       </td><td>American                 </td><td>chevrolet chevelle malibu</td></tr>\n\t<tr><td>15                       </td><td>8                        </td><td>350                      </td><td>165                      </td><td>3693                     </td><td>11.5                     </td><td>70                       </td><td>American                 </td><td>buick skylark 320        </td></tr>\n\t<tr><td>18                       </td><td>8                        </td><td>318                      </td><td>150                      </td><td>3436                     </td><td>11.0                     </td><td>70                       </td><td>American                 </td><td>plymouth satellite       </td></tr>\n\t<tr><td>16                       </td><td>8                        </td><td>304                      </td><td>150                      </td><td>3433                     </td><td>12.0                     </td><td>70                       </td><td>American                 </td><td>amc rebel sst            </td></tr>\n\t<tr><td>17                       </td><td>8                        </td><td>302                      </td><td>140                      </td><td>3449                     </td><td>10.5                     </td><td>70                       </td><td>American                 </td><td>ford torino              </td></tr>\n\t<tr><td>15                       </td><td>8                        </td><td>429                      </td><td>198                      </td><td>4341                     </td><td>10.0                     </td><td>70                       </td><td>American                 </td><td>ford galaxie 500         </td></tr>\n</tbody>\n</table>\n", 
                        "text/latex": "\\begin{tabular}{r|lllllllll}\n mpg & cylinders & engine & horsepower & weight & acceleration & year & origin & name\\\\\n\\hline\n\t 18                        & 8                         & 307                       & 130                       & 3504                      & 12.0                      & 70                        & American                  & chevrolet chevelle malibu\\\\\n\t 15                        & 8                         & 350                       & 165                       & 3693                      & 11.5                      & 70                        & American                  & buick skylark 320        \\\\\n\t 18                        & 8                         & 318                       & 150                       & 3436                      & 11.0                      & 70                        & American                  & plymouth satellite       \\\\\n\t 16                        & 8                         & 304                       & 150                       & 3433                      & 12.0                      & 70                        & American                  & amc rebel sst            \\\\\n\t 17                        & 8                         & 302                       & 140                       & 3449                      & 10.5                      & 70                        & American                  & ford torino              \\\\\n\t 15                        & 8                         & 429                       & 198                       & 4341                      & 10.0                      & 70                        & American                  & ford galaxie 500         \\\\\n\\end{tabular}\n", 
                        "text/markdown": "\nmpg | cylinders | engine | horsepower | weight | acceleration | year | origin | name | \n|---|---|---|---|---|---|\n| 18                        | 8                         | 307                       | 130                       | 3504                      | 12.0                      | 70                        | American                  | chevrolet chevelle malibu | \n| 15                        | 8                         | 350                       | 165                       | 3693                      | 11.5                      | 70                        | American                  | buick skylark 320         | \n| 18                        | 8                         | 318                       | 150                       | 3436                      | 11.0                      | 70                        | American                  | plymouth satellite        | \n| 16                        | 8                         | 304                       | 150                       | 3433                      | 12.0                      | 70                        | American                  | amc rebel sst             | \n| 17                        | 8                         | 302                       | 140                       | 3449                      | 10.5                      | 70                        | American                  | ford torino               | \n| 15                        | 8                         | 429                       | 198                       | 4341                      | 10.0                      | 70                        | American                  | ford galaxie 500          | \n\n\n", 
                        "text/plain": "  mpg cylinders engine horsepower weight acceleration year origin  \n1 18  8         307    130        3504   12.0         70   American\n2 15  8         350    165        3693   11.5         70   American\n3 18  8         318    150        3436   11.0         70   American\n4 16  8         304    150        3433   12.0         70   American\n5 17  8         302    140        3449   10.5         70   American\n6 15  8         429    198        4341   10.0         70   American\n  name                     \n1 chevrolet chevelle malibu\n2 buick skylark 320        \n3 plymouth satellite       \n4 amc rebel sst            \n5 ford torino              \n6 ford galaxie 500         "
                    }, 
                    "metadata": {}
                }
            ], 
            "source": "# The code was removed by DSX for sharing."
        }, 
        {
            "execution_count": 2, 
            "cell_type": "code", 
            "metadata": {}, 
            "outputs": [
                {
                    "output_type": "stream", 
                    "name": "stderr", 
                    "text": "Loading required package: RODBC\nLoading required package: Matrix\nLoading required package: arules\n\nAttaching package: \u2018arules\u2019\n\nThe following objects are masked from \u2018package:base\u2019:\n\n    abbreviate, write\n\n"
                }, 
                {
                    "output_type": "display_data", 
                    "data": {
                        "text/html": "<table>\n<thead><tr><th scope=col>PRODUCT_LINE</th><th scope=col>GENDER</th><th scope=col>AGE</th><th scope=col>MARITAL_STATUS</th><th scope=col>PROFESSION</th></tr></thead>\n<tbody>\n\t<tr><td>Personal Accessories    </td><td>F                       </td><td>29                      </td><td>Single                  </td><td>Sales                   </td></tr>\n\t<tr><td>Personal Accessories    </td><td>F                       </td><td>29                      </td><td>Single                  </td><td>Sales                   </td></tr>\n\t<tr><td>Mountaineering Equipment</td><td>F                       </td><td>37                      </td><td>Married                 </td><td>Other                   </td></tr>\n\t<tr><td>Mountaineering Equipment</td><td>F                       </td><td>37                      </td><td>Married                 </td><td>Other                   </td></tr>\n\t<tr><td>Personal Accessories    </td><td>F                       </td><td>22                      </td><td>Single                  </td><td>Professional            </td></tr>\n\t<tr><td>Camping Equipment       </td><td>F                       </td><td>22                      </td><td>Single                  </td><td>Professional            </td></tr>\n</tbody>\n</table>\n", 
                        "text/latex": "\\begin{tabular}{r|lllll}\n PRODUCT\\_LINE & GENDER & AGE & MARITAL\\_STATUS & PROFESSION\\\\\n\\hline\n\t Personal Accessories     & F                        & 29                       & Single                   & Sales                   \\\\\n\t Personal Accessories     & F                        & 29                       & Single                   & Sales                   \\\\\n\t Mountaineering Equipment & F                        & 37                       & Married                  & Other                   \\\\\n\t Mountaineering Equipment & F                        & 37                       & Married                  & Other                   \\\\\n\t Personal Accessories     & F                        & 22                       & Single                   & Professional            \\\\\n\t Camping Equipment        & F                        & 22                       & Single                   & Professional            \\\\\n\\end{tabular}\n", 
                        "text/markdown": "\nPRODUCT_LINE | GENDER | AGE | MARITAL_STATUS | PROFESSION | \n|---|---|---|---|---|---|\n| Personal Accessories     | F                        | 29                       | Single                   | Sales                    | \n| Personal Accessories     | F                        | 29                       | Single                   | Sales                    | \n| Mountaineering Equipment | F                        | 37                       | Married                  | Other                    | \n| Mountaineering Equipment | F                        | 37                       | Married                  | Other                    | \n| Personal Accessories     | F                        | 22                       | Single                   | Professional             | \n| Camping Equipment        | F                        | 22                       | Single                   | Professional             | \n\n\n", 
                        "text/plain": "  PRODUCT_LINE             GENDER AGE MARITAL_STATUS PROFESSION  \n1 Personal Accessories     F      29  Single         Sales       \n2 Personal Accessories     F      29  Single         Sales       \n3 Mountaineering Equipment F      37  Married        Other       \n4 Mountaineering Equipment F      37  Married        Other       \n5 Personal Accessories     F      22  Single         Professional\n6 Camping Equipment        F      22  Single         Professional"
                    }, 
                    "metadata": {}
                }
            ], 
            "source": "# The code was removed by DSX for sharing."
        }, 
        {
            "execution_count": 3, 
            "cell_type": "code", 
            "metadata": {}, 
            "outputs": [
                {
                    "output_type": "stream", 
                    "name": "stderr", 
                    "text": "also installing the dependencies \u2018debugme\u2019, \u2018config\u2019, \u2018processx\u2019, \u2018rstudioapi\u2019, \u2018whisker\u2019, \u2018reticulate\u2019, \u2018tensorflow\u2019, \u2018tfruns\u2019, \u2018zeallot\u2019\n\nUpdating HTML index of packages in '.Library'\nMaking 'packages.html' ... done\n"
                }
            ], 
            "source": "install.packages('keras')"
        }, 
        {
            "execution_count": null, 
            "cell_type": "code", 
            "metadata": {}, 
            "outputs": [], 
            "source": "install.packages(\"devtools\")\ndevtools::install_github(\"Brunel-Visualization/Brunel\", subdir=\"R\", ref=\"v2.3\")"
        }
    ], 
    "metadata": {
        "kernelspec": {
            "display_name": "R", 
            "name": "r", 
            "language": "R"
        }, 
        "language_info": {
            "mimetype": "text/x-r-source", 
            "version": "3.4.2", 
            "name": "R", 
            "pygments_lexer": "r", 
            "file_extension": ".r", 
            "codemirror_mode": "r"
        }
    }, 
    "nbformat": 4
}