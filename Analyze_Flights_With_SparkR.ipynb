{
    "nbformat_minor": 0, 
    "metadata": {
        "language_info": {
            "file_extension": ".r", 
            "pygments_lexer": "r", 
            "mimetype": "text/x-r-source", 
            "name": "R", 
            "version": "3.3.2", 
            "codemirror_mode": "r"
        }, 
        "kernelspec": {
            "name": "r", 
            "language": "R", 
            "display_name": "R with Spark 1.6"
        }
    }, 
    "cells": [
        {
            "source": "# R Notebooks Setup - Facilitate easy on-boarding with R and SparkR notebooks.\n-  SparkContext (sc) and SqlContext (sqlContext) are preconfigured\n-  Default CRAN repository\n-  Pre-installed packages\n-  Connection to object store - read data, write intermediate or final results.", 
            "metadata": {}, 
            "cell_type": "markdown"
        }, 
        {
            "source": "## Standard R code and plots\nR is a language and environment for statistical computing and graphics. It provides a wide variety of statistical (linear and nonlinear modelling, classical statistical tests, time-series analysis, classification, clustering, \u2026) and graphical techniques, and is highly extensible.", 
            "metadata": {}, 
            "cell_type": "markdown"
        }, 
        {
            "source": "# load the data\ndata(iris)\nhead(iris)\n# create histograms for each attribute\npar(mfrow=c(1,4))\nfor(i in 1:4) {\nhist(iris[,i], main=names(iris)[i])\n}", 
            "metadata": {
                "collapsed": false
            }, 
            "execution_count": 25, 
            "cell_type": "code", 
            "outputs": [
                {
                    "output_type": "display_data", 
                    "data": {
                        "text/latex": "\\begin{tabular}{r|lllll}\n Sepal.Length & Sepal.Width & Petal.Length & Petal.Width & Species\\\\\n\\hline\n\t 5.1    & 3.5    & 1.4    & 0.2    & setosa\\\\\n\t 4.9    & 3.0    & 1.4    & 0.2    & setosa\\\\\n\t 4.7    & 3.2    & 1.3    & 0.2    & setosa\\\\\n\t 4.6    & 3.1    & 1.5    & 0.2    & setosa\\\\\n\t 5.0    & 3.6    & 1.4    & 0.2    & setosa\\\\\n\t 5.4    & 3.9    & 1.7    & 0.4    & setosa\\\\\n\\end{tabular}\n", 
                        "text/plain": "  Sepal.Length Sepal.Width Petal.Length Petal.Width Species\n1 5.1          3.5         1.4          0.2         setosa \n2 4.9          3.0         1.4          0.2         setosa \n3 4.7          3.2         1.3          0.2         setosa \n4 4.6          3.1         1.5          0.2         setosa \n5 5.0          3.6         1.4          0.2         setosa \n6 5.4          3.9         1.7          0.4         setosa ", 
                        "text/html": "<table>\n<thead><tr><th scope=col>Sepal.Length</th><th scope=col>Sepal.Width</th><th scope=col>Petal.Length</th><th scope=col>Petal.Width</th><th scope=col>Species</th></tr></thead>\n<tbody>\n\t<tr><td>5.1   </td><td>3.5   </td><td>1.4   </td><td>0.2   </td><td>setosa</td></tr>\n\t<tr><td>4.9   </td><td>3.0   </td><td>1.4   </td><td>0.2   </td><td>setosa</td></tr>\n\t<tr><td>4.7   </td><td>3.2   </td><td>1.3   </td><td>0.2   </td><td>setosa</td></tr>\n\t<tr><td>4.6   </td><td>3.1   </td><td>1.5   </td><td>0.2   </td><td>setosa</td></tr>\n\t<tr><td>5.0   </td><td>3.6   </td><td>1.4   </td><td>0.2   </td><td>setosa</td></tr>\n\t<tr><td>5.4   </td><td>3.9   </td><td>1.7   </td><td>0.4   </td><td>setosa</td></tr>\n</tbody>\n</table>\n"
                    }, 
                    "metadata": {}
                }, 
                {
                    "output_type": "display_data", 
                    "data": {
                        "image/png": "[encoded data removed]"
                    }, 
                    "metadata": {}
                }
            ]
        }, 
        {
            "source": "### CRAN - The Comprehensive R Archive Network\nCRAN is a network of ftp and web servers around the world that store identical, up-to-date, versions of code and documentation for R.", 
            "metadata": {}, 
            "cell_type": "markdown"
        }, 
        {
            "source": "getOption(\"repos\")", 
            "metadata": {
                "collapsed": false
            }, 
            "execution_count": 2, 
            "cell_type": "code", 
            "outputs": [
                {
                    "output_type": "display_data", 
                    "data": {
                        "text/latex": "'http://cran.cnr.berkeley.edu/'", 
                        "text/plain": "[1] \"http://cran.cnr.berkeley.edu/\"", 
                        "text/markdown": "'http://cran.cnr.berkeley.edu/'", 
                        "text/html": "'http://cran.cnr.berkeley.edu/'"
                    }, 
                    "metadata": {}
                }
            ]
        }, 
        {
            "source": "### Pre-installed pacakges", 
            "metadata": {}, 
            "cell_type": "markdown"
        }, 
        {
            "source": "#installed.packages()", 
            "metadata": {
                "collapsed": false
            }, 
            "execution_count": 3, 
            "cell_type": "code", 
            "outputs": []
        }, 
        {
            "source": "## Scalable data analysis with SparkR (R on Spark)\nSparkR is an R package that provides a light-weight frontend to use Apache Spark from R. In Spark 1.6.0, SparkR provides a distributed data frame implementation that supports operations like selection, filtering, aggregation etc. (similar to R data frames, dplyr) but on large datasets. SparkR also supports distributed machine learning using MLlib. A SparkR DataFrame is a distributed collection of data organized into named columns. It is conceptually equivalent to a table in a relational database or a data frame in R, but with richer optimizations under the hood. DataFrames can be constructed from a wide array of sources such as: structured data files, tables in Hive, external databases, or existing local R data frames.", 
            "metadata": {}, 
            "cell_type": "markdown"
        }, 
        {
            "source": "### Preconfigured SparkContext and SqlContext\n\nThe entry point into SparkR is the SparkContext which connects your R program to a Spark cluster. You can create a SparkContext using sparkR.init and pass in options such as the application name , any spark packages depended on, etc. Further, to work with DataFrames we will need a SQLContext, which can be created from the SparkContext. ", 
            "metadata": {}, 
            "cell_type": "markdown"
        }, 
        {
            "source": "sc\nsqlContext", 
            "metadata": {
                "collapsed": false
            }, 
            "execution_count": 4, 
            "cell_type": "code", 
            "outputs": [
                {
                    "output_type": "display_data", 
                    "data": {
                        "text/plain": "Java ref type org.apache.spark.api.java.JavaSparkContext id 0 "
                    }, 
                    "metadata": {}
                }, 
                {
                    "output_type": "display_data", 
                    "data": {
                        "text/plain": "Java ref type org.apache.spark.sql.SQLContext id 1 "
                    }, 
                    "metadata": {}
                }
            ]
        }, 
        {
            "source": "DF <- createDataFrame(sqlContext, iris)", 
            "metadata": {
                "collapsed": false
            }, 
            "execution_count": 5, 
            "cell_type": "code", 
            "outputs": [
                {
                    "text": "Warning message in FUN(X[[i]], ...):\n\u201cUse Sepal_Length instead of Sepal.Length  as column name\u201dWarning message in FUN(X[[i]], ...):\n\u201cUse Sepal_Width instead of Sepal.Width  as column name\u201dWarning message in FUN(X[[i]], ...):\n\u201cUse Petal_Length instead of Petal.Length  as column name\u201dWarning message in FUN(X[[i]], ...):\n\u201cUse Petal_Width instead of Petal.Width  as column name\u201d", 
                    "name": "stderr", 
                    "output_type": "stream"
                }
            ]
        }, 
        {
            "source": "head(DF)", 
            "metadata": {
                "collapsed": false
            }, 
            "execution_count": 6, 
            "cell_type": "code", 
            "outputs": [
                {
                    "output_type": "display_data", 
                    "data": {
                        "text/latex": "\\begin{tabular}{r|lllll}\n Sepal\\_Length & Sepal\\_Width & Petal\\_Length & Petal\\_Width & Species\\\\\n\\hline\n\t 5.1    & 3.5    & 1.4    & 0.2    & setosa\\\\\n\t 4.9    & 3.0    & 1.4    & 0.2    & setosa\\\\\n\t 4.7    & 3.2    & 1.3    & 0.2    & setosa\\\\\n\t 4.6    & 3.1    & 1.5    & 0.2    & setosa\\\\\n\t 5.0    & 3.6    & 1.4    & 0.2    & setosa\\\\\n\t 5.4    & 3.9    & 1.7    & 0.4    & setosa\\\\\n\\end{tabular}\n", 
                        "text/plain": "  Sepal_Length Sepal_Width Petal_Length Petal_Width Species\n1 5.1          3.5         1.4          0.2         setosa \n2 4.9          3.0         1.4          0.2         setosa \n3 4.7          3.2         1.3          0.2         setosa \n4 4.6          3.1         1.5          0.2         setosa \n5 5.0          3.6         1.4          0.2         setosa \n6 5.4          3.9         1.7          0.4         setosa ", 
                        "text/html": "<table>\n<thead><tr><th scope=col>Sepal_Length</th><th scope=col>Sepal_Width</th><th scope=col>Petal_Length</th><th scope=col>Petal_Width</th><th scope=col>Species</th></tr></thead>\n<tbody>\n\t<tr><td>5.1   </td><td>3.5   </td><td>1.4   </td><td>0.2   </td><td>setosa</td></tr>\n\t<tr><td>4.9   </td><td>3.0   </td><td>1.4   </td><td>0.2   </td><td>setosa</td></tr>\n\t<tr><td>4.7   </td><td>3.2   </td><td>1.3   </td><td>0.2   </td><td>setosa</td></tr>\n\t<tr><td>4.6   </td><td>3.1   </td><td>1.5   </td><td>0.2   </td><td>setosa</td></tr>\n\t<tr><td>5.0   </td><td>3.6   </td><td>1.4   </td><td>0.2   </td><td>setosa</td></tr>\n\t<tr><td>5.4   </td><td>3.9   </td><td>1.7   </td><td>0.4   </td><td>setosa</td></tr>\n</tbody>\n</table>\n"
                    }, 
                    "metadata": {}
                }
            ]
        }, 
        {
            "source": "# A small simple sample ;) - Analyze flight delays", 
            "metadata": {}, 
            "cell_type": "markdown"
        }, 
        {
            "source": "###  Directly create a SparkR DataFrame from the source data (csv file flights.csv in the associated Object Store)\nFor this example, we shall use the \"flights\" dataset. \nThe dataset consists of every flight departing Houston in 2011.\nThe data set is made up of 227,496 rows x 14 columns.", 
            "metadata": {}, 
            "cell_type": "markdown"
        }, 
        {
            "source": "\n# @hidden_cell\n# This function accesses a file in your Object Storage. The definition contains your credentials.\n# You might want to remove those credentials before you share your notebook.\ngetObjectStorageFileWithCredentials_e5c4f52f5a8d4228b8539f78d2eac7ae <- function(container, filename) {\n    # This functions returns a textConnection object for a file\n    # from Bluemix Object Storage.\n\n    if(!require(httr)) install.packages('httr')\n    if(!require(RCurl)) install.packages('RCurl')\n    library(httr, RCurl)\n    auth_url <- paste(\"https://identity.open.softlayer.com\",'/v3/auth/tokens', sep= '')\n    auth_args <- paste('{\"auth\": {\"identity\": {\"password\": {\"user\": {\"domain\": {\"id\": ', \"36aa3876656c40dbba129cb5068f2628\",'},\"password\": ',\n                    \"Z&6398uWQzRPl.Ho\",',\"name\": ', \"member_fa58d6719f1339e10b41b92eac4dc6affcdb2c3a\",'}},\"methods\": [\"password\"]}}}', sep='\"')\n    auth_response <- httr::POST(url = auth_url, body = auth_args)\n    x_subject_token <-  headers(auth_response)[['x-subject-token']]\n    auth_body <-  content(auth_response)\n    access_url <-  unlist(lapply(auth_body[['token']][['catalog']], function(catalog){\n        if((catalog[['type']] == 'object-store')){\n            lapply(catalog[['endpoints']], function(endpoints){\n                if(endpoints[['interface']] == 'public' && endpoints[['region_id']] == 'dallas') {\n                    paste(endpoints[['url']], container, filename, sep='/')}\n            })\n        }\n    }))\n    data <- content(httr::GET(url = access_url, add_headers (\"Content-Type\" = \"application/json\", \"X-Auth-Token\" = x_subject_token)), as=\"text\")\n    textConnection(data)\n}\n\ndf.data.1 <-  read.csv(file = getObjectStorageFileWithCredentials_e5c4f52f5a8d4228b8539f78d2eac7ae(\"ProdwithOS\", \"flights.csv\"))\nhead(df.data.1)\n", 
            "metadata": {
                "collapsed": false
            }, 
            "execution_count": 7, 
            "cell_type": "code", 
            "outputs": [
                {
                    "text": "Loading required package: httr\nLoading required package: RCurl\nLoading required package: bitops\n\nAttaching package: \u2018RCurl\u2019\n\nThe following object is masked from \u2018package:SparkR\u2019:\n\n    base64\n\n", 
                    "name": "stderr", 
                    "output_type": "stream"
                }, 
                {
                    "output_type": "display_data", 
                    "data": {
                        "text/latex": "\\begin{tabular}{r|l}\n X.html..h1.Not.Found..h1..p.The.resource.could.not.be.found...p...html.\\\\\n\\hline\n\\end{tabular}\n", 
                        "text/plain": "     X.html..h1.Not.Found..h1..p.The.resource.could.not.be.found...p...html.", 
                        "text/html": "<table>\n<thead><tr><th scope=col>X.html..h1.Not.Found..h1..p.The.resource.could.not.be.found...p...html.</th></tr></thead>\n<tbody>\n</tbody>\n</table>\n"
                    }, 
                    "metadata": {}
                }
            ]
        }, 
        {
            "source": "\n# @hidden_cell\n# This function is used to setup the access of Spark to your Object Storage. The definition contains your credentials.\n# You might want to remove those credentials before you share your notebook.\nsetHadoopConfigWithCredentials_e5c4f52f5a8d4228b8539f78d2eac7ae <- function(name) {\n    # This function sets the Hadoop configuration so it is possible to\n    # access data from Bluemix Object Storage using Spark\n\n    prefix = paste(\"fs.swift.service\" , name, sep =\".\")\n    hConf = SparkR:::callJMethod(sc, \"hadoopConfiguration\")\n    SparkR:::callJMethod(hConf, \"set\", paste(prefix, \"auth.url\", sep='.'), paste(\"https://identity.open.softlayer.com\",\"/v3/auth/tokens\",sep=\"\"))\n    SparkR:::callJMethod(hConf, \"set\", paste(prefix, \"auth.endpoint.prefix\", sep='.'), \"endpoints\")\n    SparkR:::callJMethod(hConf, \"set\", paste(prefix, \"tenant\", sep='.'), \"0f885dd557c94564820290f36199b2ac\")\n    SparkR:::callJMethod(hConf, \"set\", paste(prefix, \"username\", sep='.'), \"4ad59159f9694a9780bf4dd98ba365b6\")\n    SparkR:::callJMethod(hConf, \"set\", paste(prefix, \"password\", sep='.'), \"Z&6398uWQzRPl.Ho\")\n    SparkR:::callJMethod(hConf, \"set\", paste(prefix, \"region\", sep='.'), \"dallas\")\n    invisible(SparkR:::callJMethod(hConf, \"setBoolean\", paste(prefix, \"public\", sep='.'), FALSE))\n}\n\nname <- \"keystone\"\nsetHadoopConfigWithCredentials_e5c4f52f5a8d4228b8539f78d2eac7ae(name)\n\nflightsDF <- read.df(sqlContext, paste(\"swift://\", \"ProdwithOS\", \".\" , name,\"/\", \"flights.csv\", sep=\"\"), source = \"com.databricks.spark.csv\", header = \"true\")\nhead(flightsDF)\n", 
            "metadata": {
                "collapsed": false
            }, 
            "execution_count": 8, 
            "cell_type": "code", 
            "outputs": [
                {
                    "evalue": "Error in invokeJava(isStatic = TRUE, className, methodName, ...): org.apache.hadoop.mapred.InvalidInputException: Input path does not exist: swift://ProdwithOS.keystone/flights.csv\n\tat org.apache.hadoop.mapred.FileInputFormat.singleThreadedListStatus(FileInputFormat.java:285)\n\tat org.apache.hadoop.mapred.FileInputFormat.listStatus(FileInputFormat.java:228)\n\tat org.apache.hadoop.mapred.FileInputFormat.getSplits(FileInputFormat.java:313)\n\tat org.apache.spark.rdd.HadoopRDD.getPartitions(HadoopRDD.scala:199)\n\tat org.apache.spark.rdd.RDD$$anonfun$partitions$2.apply(RDD.scala:239)\n\tat org.apache.spark.rdd.RDD$$anonfun$partitions$2.apply(RDD.scala:237)\n\tat scala.Option.getOrElse(Option.scala:120)\n\tat org.apache.spark.rdd.RDD.partitions(RDD.scala:237)\n\tat org.apache.spark.rdd.MapPartitionsRDD.getPartitions(MapPartitionsRDD.scala:35)\n\tat org.apache.spark.rdd.RDD$$anonfun$partitions$2.apply(RDD.scala:239)\n\tat org.apache.spark.rdd.RDD$$anonfun$partitions$2.apply(RDD.scala:237)\n\tat scala.Option.getOrElse(Option.scala:120)\n\tat org.apache.spark.rdd.RDD.partitions(RDD.scala:237)\n\tat org.apache.spark.rdd.RDD$$anonfun$take$1.apply(RDD.scala:1293)\n\tat org.apache.spark.rdd.RDDOperationScope$.withScope(RDDOperationScope.scala:150)\n\tat org.apache.spark.rdd.RDDOperationScope$.withScope(RDDOperationScope.scala:111)\n\tat org.apache.spark.rdd.RDD.withScope(RDD.scala:316)\n\tat org.apache.spark.rdd.RDD.take(RDD.scala:1288)\n\tat com.databricks.spark.csv.CsvRelation.firstLine$lzycompute(CsvRelation.scala:249)\n\tat com.databricks.spark.csv.CsvRelation.firstLine(CsvRelation.scala:245)\n\tat com.databricks.spark.csv.CsvRelation.inferSchema(CsvRelation.scala:223)\n\tat com.databricks.spark.csv.CsvRelation.<init>(CsvRelation.scala:72)\n\tat com.databricks.spark.csv.DefaultSource.createRelation(DefaultSource.scala:157)\n\tat com.databricks.spark.csv.DefaultSource.createRelation(DefaultSource.scala:44)\n\tat org.apache.spark.sql.execution.datasources.ResolvedDataSource$.apply(ResolvedDataSource.scala:158)\n\tat org.apache.spark.sql.DataFrameReader.load(DataFrameReader.scala:119)\n\tat org.apache.spark.sql.api.r.SQLUtils$.loadDF(SQLUtils.scala:160)\n\tat org.apache.spark.sql.api.r.SQLUtils.loadDF(SQLUtils.scala)\n\tat sun.reflect.NativeMethodAccessorImpl.invoke0(Native Method)\n\tat sun.reflect.NativeMethodAccessorImpl.invoke(NativeMethodAccessorImpl.java:95)\n\tat sun.reflect.DelegatingMethodAccessorImpl.invoke(DelegatingMethodAccessorImpl.java:55)\n\tat java.lang.reflect.Method.invoke(Method.java:507)\n\tat org.apache.spark.api.r.RBackendHandler.handleMethodCall(RBackendHandler.scala:141)\n\tat org.apache.spark.api.r.RBackendHandler.channelRead0(RBackendHandler.scala:86)\n\tat org.apache.spark.api.r.RBackendHandler.channelRead0(RBackendHandler.scala:38)\n\tat io.netty.channel.SimpleChannelInboundHandler.channelRead(SimpleChannelInboundHandler.java:105)\n\tat io.netty.channel.AbstractChannelHandlerContext.invokeChannelRead(AbstractChannelHandlerContext.java:308)\n\tat io.netty.channel.AbstractChannelHandlerContext.fireChannelRead(AbstractChannelHandlerContext.java:294)\n\tat io.netty.handler.codec.MessageToMessageDecoder.channelRead(MessageToMessageDecoder.java:103)\n\tat io.netty.channel.AbstractChannelHandlerContext.invokeChannelRead(AbstractChannelHandlerContext.java:308)\n\tat io.netty.channel.AbstractChannelHandlerContext.fireChannelRead(AbstractChannelHandlerContext.java:294)\n\tat io.netty.handler.codec.ByteToMessageDecoder.channelRead(ByteToMessageDecoder.java:244)\n\tat io.netty.channel.AbstractChannelHandlerContext.invokeChannelRead(AbstractChannelHandlerContext.java:308)\n\tat io.netty.channel.AbstractChannelHandlerContext.fireChannelRead(AbstractChannelHandlerContext.java:294)\n\tat io.netty.channel.DefaultChannelPipeline.fireChannelRead(DefaultChannelPipeline.java:846)\n\tat io.netty.channel.nio.AbstractNioByteChannel$NioByteUnsafe.read(AbstractNioByteChannel.java:131)\n\tat io.netty.channel.nio.NioEventLoop.processSelectedKey(NioEventLoop.java:511)\n\tat io.netty.channel.nio.NioEventLoop.processSelectedKeysOptimized(NioEventLoop.java:468)\n\tat io.netty.channel.nio.NioEventLoop.processSelectedKeys(NioEventLoop.java:382)\n\tat io.netty.channel.nio.NioEventLoop.run(NioEventLoop.java:354)\n\tat io.netty.util.concurrent.SingleThreadEventExecutor$2.run(SingleThreadEventExecutor.java:111)\n\tat io.netty.util.concurrent.DefaultThreadFactory$DefaultRunnableDecorator.run(DefaultThreadFactory.java:137)\n\tat java.lang.Thread.run(Thread.java:785)\n\n", 
                    "ename": "ERROR", 
                    "traceback": [
                        "Error in invokeJava(isStatic = TRUE, className, methodName, ...): org.apache.hadoop.mapred.InvalidInputException: Input path does not exist: swift://ProdwithOS.keystone/flights.csv\n\tat org.apache.hadoop.mapred.FileInputFormat.singleThreadedListStatus(FileInputFormat.java:285)\n\tat org.apache.hadoop.mapred.FileInputFormat.listStatus(FileInputFormat.java:228)\n\tat org.apache.hadoop.mapred.FileInputFormat.getSplits(FileInputFormat.java:313)\n\tat org.apache.spark.rdd.HadoopRDD.getPartitions(HadoopRDD.scala:199)\n\tat org.apache.spark.rdd.RDD$$anonfun$partitions$2.apply(RDD.scala:239)\n\tat org.apache.spark.rdd.RDD$$anonfun$partitions$2.apply(RDD.scala:237)\n\tat scala.Option.getOrElse(Option.scala:120)\n\tat org.apache.spark.rdd.RDD.partitions(RDD.scala:237)\n\tat org.apache.spark.rdd.MapPartitionsRDD.getPartitions(MapPartitionsRDD.scala:35)\n\tat org.apache.spark.rdd.RDD$$anonfun$partitions$2.apply(RDD.scala:239)\n\tat org.apache.spark.rdd.RDD$$anonfun$partitions$2.apply(RDD.scala:237)\n\tat scala.Option.getOrElse(Option.scala:120)\n\tat org.apache.spark.rdd.RDD.partitions(RDD.scala:237)\n\tat org.apache.spark.rdd.RDD$$anonfun$take$1.apply(RDD.scala:1293)\n\tat org.apache.spark.rdd.RDDOperationScope$.withScope(RDDOperationScope.scala:150)\n\tat org.apache.spark.rdd.RDDOperationScope$.withScope(RDDOperationScope.scala:111)\n\tat org.apache.spark.rdd.RDD.withScope(RDD.scala:316)\n\tat org.apache.spark.rdd.RDD.take(RDD.scala:1288)\n\tat com.databricks.spark.csv.CsvRelation.firstLine$lzycompute(CsvRelation.scala:249)\n\tat com.databricks.spark.csv.CsvRelation.firstLine(CsvRelation.scala:245)\n\tat com.databricks.spark.csv.CsvRelation.inferSchema(CsvRelation.scala:223)\n\tat com.databricks.spark.csv.CsvRelation.<init>(CsvRelation.scala:72)\n\tat com.databricks.spark.csv.DefaultSource.createRelation(DefaultSource.scala:157)\n\tat com.databricks.spark.csv.DefaultSource.createRelation(DefaultSource.scala:44)\n\tat org.apache.spark.sql.execution.datasources.ResolvedDataSource$.apply(ResolvedDataSource.scala:158)\n\tat org.apache.spark.sql.DataFrameReader.load(DataFrameReader.scala:119)\n\tat org.apache.spark.sql.api.r.SQLUtils$.loadDF(SQLUtils.scala:160)\n\tat org.apache.spark.sql.api.r.SQLUtils.loadDF(SQLUtils.scala)\n\tat sun.reflect.NativeMethodAccessorImpl.invoke0(Native Method)\n\tat sun.reflect.NativeMethodAccessorImpl.invoke(NativeMethodAccessorImpl.java:95)\n\tat sun.reflect.DelegatingMethodAccessorImpl.invoke(DelegatingMethodAccessorImpl.java:55)\n\tat java.lang.reflect.Method.invoke(Method.java:507)\n\tat org.apache.spark.api.r.RBackendHandler.handleMethodCall(RBackendHandler.scala:141)\n\tat org.apache.spark.api.r.RBackendHandler.channelRead0(RBackendHandler.scala:86)\n\tat org.apache.spark.api.r.RBackendHandler.channelRead0(RBackendHandler.scala:38)\n\tat io.netty.channel.SimpleChannelInboundHandler.channelRead(SimpleChannelInboundHandler.java:105)\n\tat io.netty.channel.AbstractChannelHandlerContext.invokeChannelRead(AbstractChannelHandlerContext.java:308)\n\tat io.netty.channel.AbstractChannelHandlerContext.fireChannelRead(AbstractChannelHandlerContext.java:294)\n\tat io.netty.handler.codec.MessageToMessageDecoder.channelRead(MessageToMessageDecoder.java:103)\n\tat io.netty.channel.AbstractChannelHandlerContext.invokeChannelRead(AbstractChannelHandlerContext.java:308)\n\tat io.netty.channel.AbstractChannelHandlerContext.fireChannelRead(AbstractChannelHandlerContext.java:294)\n\tat io.netty.handler.codec.ByteToMessageDecoder.channelRead(ByteToMessageDecoder.java:244)\n\tat io.netty.channel.AbstractChannelHandlerContext.invokeChannelRead(AbstractChannelHandlerContext.java:308)\n\tat io.netty.channel.AbstractChannelHandlerContext.fireChannelRead(AbstractChannelHandlerContext.java:294)\n\tat io.netty.channel.DefaultChannelPipeline.fireChannelRead(DefaultChannelPipeline.java:846)\n\tat io.netty.channel.nio.AbstractNioByteChannel$NioByteUnsafe.read(AbstractNioByteChannel.java:131)\n\tat io.netty.channel.nio.NioEventLoop.processSelectedKey(NioEventLoop.java:511)\n\tat io.netty.channel.nio.NioEventLoop.processSelectedKeysOptimized(NioEventLoop.java:468)\n\tat io.netty.channel.nio.NioEventLoop.processSelectedKeys(NioEventLoop.java:382)\n\tat io.netty.channel.nio.NioEventLoop.run(NioEventLoop.java:354)\n\tat io.netty.util.concurrent.SingleThreadEventExecutor$2.run(SingleThreadEventExecutor.java:111)\n\tat io.netty.util.concurrent.DefaultThreadFactory$DefaultRunnableDecorator.run(DefaultThreadFactory.java:137)\n\tat java.lang.Thread.run(Thread.java:785)\n\nTraceback:\n", 
                        "1. read.df(sqlContext, paste(\"swift://\", \"ProdwithOS\", \".\", name, \n .     \"/\", \"flights.csv\", sep = \"\"), source = \"com.databricks.spark.csv\", \n .     header = \"true\")", 
                        "2. callJStatic(\"org.apache.spark.sql.api.r.SQLUtils\", \"loadDF\", \n .     sqlContext, source, options)", 
                        "3. invokeJava(isStatic = TRUE, className, methodName, ...)", 
                        "4. stop(readString(conn))"
                    ], 
                    "output_type": "error"
                }
            ]
        }, 
        {
            "source": "### Print the first 6 rows of the DataFrame", 
            "metadata": {}, 
            "cell_type": "markdown"
        }, 
        {
            "source": "head(flightsDF)", 
            "metadata": {
                "collapsed": false
            }, 
            "execution_count": 9, 
            "cell_type": "code", 
            "outputs": [
                {
                    "evalue": "Error in head(flightsDF): object 'flightsDF' not found\n", 
                    "ename": "ERROR", 
                    "traceback": [
                        "Error in head(flightsDF): object 'flightsDF' not found\nTraceback:\n", 
                        "1. head(flightsDF)"
                    ], 
                    "output_type": "error"
                }
            ]
        }, 
        {
            "source": "### Use SQL queries with the SparkR dataframe", 
            "metadata": {}, 
            "cell_type": "markdown"
        }, 
        {
            "source": "# Using SQL to select columns of data\n# First, register the flights DataFrame as a table\nregisterTempTable(flightsDF, \"flightsTable\")\ndestDF <- sql(sqlContext, \"SELECT dest, cancelled FROM flightsTable where cancelled != 0\")\nhead(destDF)", 
            "metadata": {
                "collapsed": false
            }, 
            "execution_count": 10, 
            "cell_type": "code", 
            "outputs": [
                {
                    "evalue": "Error in registerTempTable(flightsDF, \"flightsTable\"): object 'flightsDF' not found\n", 
                    "ename": "ERROR", 
                    "traceback": [
                        "Error in registerTempTable(flightsDF, \"flightsTable\"): object 'flightsDF' not found\nTraceback:\n", 
                        "1. registerTempTable(flightsDF, \"flightsTable\")"
                    ], 
                    "output_type": "error"
                }
            ]
        }, 
        {
            "source": "### Filter as map reduce for SparkR", 
            "metadata": {}, 
            "cell_type": "markdown"
        }, 
        {
            "source": "# Filter flights whose destination is JFK\njfkDF <- filter(flightsDF, flightsDF$dest == \"JFK\")\nhead(jfkDF)", 
            "metadata": {
                "collapsed": false
            }, 
            "execution_count": 11, 
            "cell_type": "code", 
            "outputs": [
                {
                    "evalue": "Error in filter(flightsDF, flightsDF$dest == \"JFK\"): object 'flightsDF' not found\n", 
                    "ename": "ERROR", 
                    "traceback": [
                        "Error in filter(flightsDF, flightsDF$dest == \"JFK\"): object 'flightsDF' not found\nTraceback:\n", 
                        "1. filter(flightsDF, flightsDF$dest == \"JFK\")"
                    ], 
                    "output_type": "error"
                }
            ]
        }, 
        {
            "source": "### Calculate average delay per day", 
            "metadata": {}, 
            "cell_type": "markdown"
        }, 
        {
            "source": "# If the magrittr library is available, we can use it to\n# chain data frame operations\nif(\"magrittr\" %in% rownames(installed.packages())) {\n  library(magrittr)\n\n  # Group the flights by date and then find the average daily delay\n  # Write the result into a DataFrame\n  groupBy(flightsDF, flightsDF$date) %>%\n    summarize(avg(flightsDF$dep_delay), avg(flightsDF$arr_delay)) -> dailyDelayDF\n\n  # Print the computed data frame\n  head(dailyDelayDF)\n}", 
            "metadata": {
                "collapsed": false
            }, 
            "execution_count": 12, 
            "cell_type": "code", 
            "outputs": [
                {
                    "evalue": "Error in groupBy(flightsDF, flightsDF$date): object 'flightsDF' not found\n", 
                    "ename": "ERROR", 
                    "traceback": [
                        "Error in groupBy(flightsDF, flightsDF$date): object 'flightsDF' not found\nTraceback:\n", 
                        "1. groupBy(flightsDF, flightsDF$date) %>% summarize(avg(flightsDF$dep_delay), \n .     avg(flightsDF$arr_delay))   # at line 8-9 of file <text>", 
                        "2. eval(lhs, parent, parent)", 
                        "3. eval(expr, envir, enclos)", 
                        "4. groupBy(flightsDF, flightsDF$date)"
                    ], 
                    "output_type": "error"
                }
            ]
        }, 
        {
            "source": "### Calculate average delay per hour", 
            "metadata": {}, 
            "cell_type": "markdown"
        }, 
        {
            "source": "# If the magrittr library is available, we can use it to chain data frame operations\nif(\"magrittr\" %in% rownames(installed.packages())) {\n  library(magrittr)\n\n  # Group the flights by hour and then find the average hourly delay. Write the result into a DataFrame\n  groupBy(flightsDF, flightsDF$hour) %>%\n    summarize(avg(flightsDF$dep_delay), avg(flightsDF$arr_delay)) -> hourlyDelayDF\n\n  # Print the computed data frame\n  head(hourlyDelayDF, n=12)\n}", 
            "metadata": {
                "collapsed": false
            }, 
            "execution_count": 13, 
            "cell_type": "code", 
            "outputs": [
                {
                    "evalue": "Error in groupBy(flightsDF, flightsDF$hour): object 'flightsDF' not found\n", 
                    "ename": "ERROR", 
                    "traceback": [
                        "Error in groupBy(flightsDF, flightsDF$hour): object 'flightsDF' not found\nTraceback:\n", 
                        "1. groupBy(flightsDF, flightsDF$hour) %>% summarize(avg(flightsDF$dep_delay), \n .     avg(flightsDF$arr_delay))   # at line 6-7 of file <text>", 
                        "2. eval(lhs, parent, parent)", 
                        "3. eval(expr, envir, enclos)", 
                        "4. groupBy(flightsDF, flightsDF$hour)"
                    ], 
                    "output_type": "error"
                }
            ]
        }, 
        {
            "source": "## Plot the results", 
            "metadata": {}, 
            "cell_type": "markdown"
        }, 
        {
            "source": "### Install and load the desired packages", 
            "metadata": {}, 
            "cell_type": "markdown"
        }, 
        {
            "source": "install.packages('ggplot2')\ninstall.packages('tidyr')\nlibrary(ggplot2)\nlibrary(tidyr)", 
            "metadata": {
                "collapsed": false
            }, 
            "execution_count": 14, 
            "cell_type": "code", 
            "outputs": [
                {
                    "text": "Installing package into \u2018/gpfs/global_fs01/sym_shared/YPProdSpark/user/sb25-423d969da91c9c-90961e015575/R/libs\u2019\n(as \u2018lib\u2019 is unspecified)\nInstalling package into \u2018/gpfs/global_fs01/sym_shared/YPProdSpark/user/sb25-423d969da91c9c-90961e015575/R/libs\u2019\n(as \u2018lib\u2019 is unspecified)\n\nAttaching package: \u2018tidyr\u2019\n\nThe following object is masked from \u2018package:magrittr\u2019:\n\n    extract\n\nThe following object is masked from \u2018package:RCurl\u2019:\n\n    complete\n\n", 
                    "name": "stderr", 
                    "output_type": "stream"
                }
            ]
        }, 
        {
            "source": "### Shape the dataFrame for plotting", 
            "metadata": {
                "collapsed": false
            }, 
            "cell_type": "markdown"
        }, 
        {
            "source": "dailyDelay <- collect(dailyDelayDF)\nnames(dailyDelay)<- c('date','dep_delay', 'arr_delay')\ndailyDelay$date <- as.Date(dailyDelay$date)\ndailyDelay$date <- factor(dailyDelay$date)\ndailyDelayLong <- gather(dailyDelay, delay_at, delay_time, dep_delay:arr_delay)", 
            "metadata": {
                "collapsed": false
            }, 
            "execution_count": 15, 
            "cell_type": "code", 
            "outputs": [
                {
                    "evalue": "Error in collect(dailyDelayDF): object 'dailyDelayDF' not found\n", 
                    "ename": "ERROR", 
                    "traceback": [
                        "Error in collect(dailyDelayDF): object 'dailyDelayDF' not found\nTraceback:\n", 
                        "1. collect(dailyDelayDF)"
                    ], 
                    "output_type": "error"
                }
            ]
        }, 
        {
            "source": "hourlyDelay <- collect(hourlyDelayDF)\nnames(hourlyDelay)<- c('hour','dep_delay', 'arr_delay')\nhourlyDelay$hour <- as.numeric(hourlyDelay$hour)\nhourlyDelay$hour <- factor(hourlyDelay$hour)\nhourlyDelayLong <- gather(hourlyDelay, delay_at, delay_time, dep_delay:arr_delay)", 
            "metadata": {
                "collapsed": false
            }, 
            "execution_count": 16, 
            "cell_type": "code", 
            "outputs": [
                {
                    "evalue": "Error in collect(hourlyDelayDF): object 'hourlyDelayDF' not found\n", 
                    "ename": "ERROR", 
                    "traceback": [
                        "Error in collect(hourlyDelayDF): object 'hourlyDelayDF' not found\nTraceback:\n", 
                        "1. collect(hourlyDelayDF)"
                    ], 
                    "output_type": "error"
                }
            ]
        }, 
        {
            "source": "ggplot(data=dailyDelayLong, aes(x=date, y=delay_time, group=delay_at, colour=delay_at)) +\n    geom_line() +\n    geom_point()", 
            "metadata": {
                "collapsed": false
            }, 
            "execution_count": 17, 
            "cell_type": "code", 
            "outputs": [
                {
                    "evalue": "Error in ggplot(data = dailyDelayLong, aes(x = date, y = delay_time, group = delay_at, : object 'dailyDelayLong' not found\n", 
                    "ename": "ERROR", 
                    "traceback": [
                        "Error in ggplot(data = dailyDelayLong, aes(x = date, y = delay_time, group = delay_at, : object 'dailyDelayLong' not found\nTraceback:\n", 
                        "1. ggplot(data = dailyDelayLong, aes(x = date, y = delay_time, group = delay_at, \n .     colour = delay_at))"
                    ], 
                    "output_type": "error"
                }
            ]
        }, 
        {
            "source": "ggplot(data=hourlyDelayLong, aes(x=hour, y=delay_time, group=delay_at, colour=delay_at)) +\n    geom_line() +\n    geom_point()", 
            "metadata": {
                "collapsed": false
            }, 
            "execution_count": 18, 
            "cell_type": "code", 
            "outputs": [
                {
                    "evalue": "Error in ggplot(data = hourlyDelayLong, aes(x = hour, y = delay_time, : object 'hourlyDelayLong' not found\n", 
                    "ename": "ERROR", 
                    "traceback": [
                        "Error in ggplot(data = hourlyDelayLong, aes(x = hour, y = delay_time, : object 'hourlyDelayLong' not found\nTraceback:\n", 
                        "1. ggplot(data = hourlyDelayLong, aes(x = hour, y = delay_time, \n .     group = delay_at, colour = delay_at))"
                    ], 
                    "output_type": "error"
                }
            ]
        }, 
        {
            "source": "", 
            "metadata": {
                "collapsed": false
            }, 
            "execution_count": 19, 
            "cell_type": "code", 
            "outputs": []
        }
    ], 
    "nbformat": 4
}